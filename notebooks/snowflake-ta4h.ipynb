{
  "cells": [
    {
      "cell_type": "code",
      "source": [
        "#%pip install \"snowflake-connector-python>=2.6.2,<2.7\"\n",
        "#%pip install \"snowflake-connector-python[pandas]\"\n",
        "#%pip install snowflake-sqlalchemy\n",
        "#%pip install azure-ai-textanalytics\n",
        "import snowflake.connector\n",
        "import pandas as pd\n",
        "import requests\n",
        "import json\n",
        "import time"
      ],
      "outputs": [],
      "execution_count": null,
      "metadata": {}
    },
    {
      "cell_type": "code",
      "source": [
        "# connect to snowflake database\n",
        "con = snowflake.connector.connect(\n",
        "    user='mmarzillo',\n",
        "    password='PASSWORD',\n",
        "    account='sn00102.central-us.azure',\n",
        "    warehouse = 'SMALL_WH',\n",
        "    database = 'TEXTANALYTICS',\n",
        ")"
      ],
      "outputs": [
        {
          "output_type": "display_data",
          "data": {
            "application/vnd.livy.statement-meta+json": {
              "spark_pool": "mattmarz",
              "session_id": "12",
              "statement_id": 5,
              "state": "finished",
              "livy_statement_state": "available",
              "queued_time": "2022-08-12T18:53:19.4863819Z",
              "session_start_time": null,
              "execution_start_time": "2022-08-12T18:53:19.59366Z",
              "execution_finish_time": "2022-08-12T18:53:23.2791435Z",
              "spark_jobs": null
            },
            "text/plain": "StatementMeta(mattmarz, 12, 5, Finished, Available)"
          },
          "metadata": {}
        }
      ],
      "execution_count": 109,
      "metadata": {
        "jupyter": {
          "source_hidden": false,
          "outputs_hidden": false
        },
        "nteract": {
          "transient": {
            "deleting": false
          }
        }
      }
    },
    {
      "cell_type": "code",
      "source": [
        "# query table to pandas data frame\n",
        "sql = \"select * from PUBLIC.MYTABLE\"\n",
        "\n",
        "cursor = con.cursor()\n",
        "cursor.execute(sql)\n",
        "\n",
        "df_notes = pd.read_sql(sql, con)\n",
        "df_notes['doc_id'] = df_notes.index\n",
        "df_notes.head()"
      ],
      "outputs": [
        {
          "output_type": "display_data",
          "data": {
            "application/vnd.livy.statement-meta+json": {
              "spark_pool": "mattmarz",
              "session_id": "12",
              "statement_id": 6,
              "state": "finished",
              "livy_statement_state": "available",
              "queued_time": "2022-08-12T18:53:24.8426606Z",
              "session_start_time": null,
              "execution_start_time": "2022-08-12T18:53:24.9426572Z",
              "execution_finish_time": "2022-08-12T18:53:26.8277858Z",
              "spark_jobs": null
            },
            "text/plain": "StatementMeta(mattmarz, 12, 6, Finished, Available)"
          },
          "metadata": {}
        },
        {
          "output_type": "execute_result",
          "execution_count": 16,
          "data": {
            "text/plain": "   PAT_ID                                           NOTES  doc_id\n0  123456             Patient is presenting with pink eye       0\n1  234567  Patient has severe back pain and needs Tylenol       1\n2  345678                          Patient broke her knee       2\n3  456789                 Patient needs a hip replacement       3\n4  567890   Patient has the flu and vomits with frequency       4",
            "text/html": "<div>\n<style scoped>\n    .dataframe tbody tr th:only-of-type {\n        vertical-align: middle;\n    }\n\n    .dataframe tbody tr th {\n        vertical-align: top;\n    }\n\n    .dataframe thead th {\n        text-align: right;\n    }\n</style>\n<table border=\"1\" class=\"dataframe\">\n  <thead>\n    <tr style=\"text-align: right;\">\n      <th></th>\n      <th>PAT_ID</th>\n      <th>NOTES</th>\n      <th>doc_id</th>\n    </tr>\n  </thead>\n  <tbody>\n    <tr>\n      <th>0</th>\n      <td>123456</td>\n      <td>Patient is presenting with pink eye</td>\n      <td>0</td>\n    </tr>\n    <tr>\n      <th>1</th>\n      <td>234567</td>\n      <td>Patient has severe back pain and needs Tylenol</td>\n      <td>1</td>\n    </tr>\n    <tr>\n      <th>2</th>\n      <td>345678</td>\n      <td>Patient broke her knee</td>\n      <td>2</td>\n    </tr>\n    <tr>\n      <th>3</th>\n      <td>456789</td>\n      <td>Patient needs a hip replacement</td>\n      <td>3</td>\n    </tr>\n    <tr>\n      <th>4</th>\n      <td>567890</td>\n      <td>Patient has the flu and vomits with frequency</td>\n      <td>4</td>\n    </tr>\n  </tbody>\n</table>\n</div>"
          },
          "metadata": {}
        }
      ],
      "execution_count": 110,
      "metadata": {
        "jupyter": {
          "source_hidden": false,
          "outputs_hidden": false
        },
        "nteract": {
          "transient": {
            "deleting": false
          }
        }
      }
    },
    {
      "cell_type": "code",
      "source": [
        "# pull out list of text \n",
        "documents = df_notes[\"NOTES\"].tolist()\n",
        "documents"
      ],
      "outputs": [
        {
          "output_type": "display_data",
          "data": {
            "application/vnd.livy.statement-meta+json": {
              "spark_pool": "mattmarz",
              "session_id": "12",
              "statement_id": 7,
              "state": "finished",
              "livy_statement_state": "available",
              "queued_time": "2022-08-12T18:53:30.6310732Z",
              "session_start_time": null,
              "execution_start_time": "2022-08-12T18:53:30.7265617Z",
              "execution_finish_time": "2022-08-12T18:53:30.8728747Z",
              "spark_jobs": null
            },
            "text/plain": "StatementMeta(mattmarz, 12, 7, Finished, Available)"
          },
          "metadata": {}
        },
        {
          "output_type": "execute_result",
          "execution_count": 19,
          "data": {
            "text/plain": "['Patient is presenting with pink eye',\n 'Patient has severe back pain and needs Tylenol',\n 'Patient broke her knee',\n 'Patient needs a hip replacement',\n 'Patient has the flu and vomits with frequency',\n 'Patient has a sever migraine',\n 'Patient has diabetes and needs more insulin',\n 'Patient has a neck injury and covid',\n 'Patient fractured his toe and finger',\n 'Patient has heart disease and diabetes and high blood pressure']"
          },
          "metadata": {}
        }
      ],
      "execution_count": 111,
      "metadata": {
        "jupyter": {
          "source_hidden": false,
          "outputs_hidden": false
        },
        "nteract": {
          "transient": {
            "deleting": false
          }
        }
      }
    },
    {
      "cell_type": "code",
      "source": [
        "# connect to language service\n",
        "key = \"KEY\"\n",
        "endpoint = \"https://matt-marz-language.cognitiveservices.azure.com/\"\n",
        "\n",
        "from azure.ai.textanalytics import TextAnalyticsClient\n",
        "from azure.core.credentials import AzureKeyCredential\n",
        "\n",
        "# Authenticate the client using your key and endpoint \n",
        "def authenticate_client():\n",
        "    ta_credential = AzureKeyCredential(key)\n",
        "    text_analytics_client = TextAnalyticsClient(\n",
        "            endpoint=endpoint, \n",
        "            credential=ta_credential)\n",
        "    return text_analytics_client\n",
        "\n",
        "client = authenticate_client()"
      ],
      "outputs": [
        {
          "output_type": "display_data",
          "data": {
            "application/vnd.livy.statement-meta+json": {
              "spark_pool": "mattmarz",
              "session_id": "12",
              "statement_id": 8,
              "state": "finished",
              "livy_statement_state": "available",
              "queued_time": "2022-08-12T18:53:35.4692659Z",
              "session_start_time": null,
              "execution_start_time": "2022-08-12T18:53:35.5667874Z",
              "execution_finish_time": "2022-08-12T18:53:35.7137594Z",
              "spark_jobs": null
            },
            "text/plain": "StatementMeta(mattmarz, 12, 8, Finished, Available)"
          },
          "metadata": {}
        }
      ],
      "execution_count": 112,
      "metadata": {
        "jupyter": {
          "source_hidden": false,
          "outputs_hidden": false
        },
        "nteract": {
          "transient": {
            "deleting": false
          }
        }
      }
    },
    {
      "cell_type": "code",
      "source": [
        "# pass docs to service\n",
        "poller = client.begin_analyze_healthcare_entities(documents)\n",
        "result = poller.result()\n",
        "\n",
        "docs = [doc for doc in result if not doc.is_error]"
      ],
      "outputs": [
        {
          "output_type": "display_data",
          "data": {
            "application/vnd.livy.statement-meta+json": {
              "spark_pool": "mattmarz",
              "session_id": "12",
              "statement_id": 9,
              "state": "finished",
              "livy_statement_state": "available",
              "queued_time": "2022-08-12T18:53:43.567139Z",
              "session_start_time": null,
              "execution_start_time": "2022-08-12T18:53:43.6708789Z",
              "execution_finish_time": "2022-08-12T18:53:50.2923442Z",
              "spark_jobs": null
            },
            "text/plain": "StatementMeta(mattmarz, 12, 9, Finished, Available)"
          },
          "metadata": {}
        }
      ],
      "execution_count": 113,
      "metadata": {
        "jupyter": {
          "source_hidden": false,
          "outputs_hidden": false
        },
        "nteract": {
          "transient": {
            "deleting": false
          }
        }
      }
    },
    {
      "cell_type": "code",
      "source": [
        "# reshape results into a pandas data frame\n",
        "ent = []\n",
        "normalized_text = []\n",
        "category = []\n",
        "doc_id = []\n",
        "source = []\n",
        "for idx, doc in enumerate(docs):\n",
        "    for entity in doc.entities:\n",
        "        doc_id.append(doc.id)\n",
        "        ent.append(entity.text)\n",
        "        normalized_text.append(entity.normalized_text)\n",
        "        category.append(entity.category)\n",
        "        source.append(entity.data_sources)\n",
        "        \n",
        "d = {'doc_id':doc_id, 'entity': ent, 'category': category, 'normalized_text': normalized_text}\n",
        "df = pd.DataFrame(data = d)"
      ],
      "outputs": [
        {
          "output_type": "display_data",
          "data": {
            "application/vnd.livy.statement-meta+json": {
              "spark_pool": "mattmarz",
              "session_id": "12",
              "statement_id": 10,
              "state": "finished",
              "livy_statement_state": "available",
              "queued_time": "2022-08-12T18:53:54.3241206Z",
              "session_start_time": null,
              "execution_start_time": "2022-08-12T18:53:54.4158073Z",
              "execution_finish_time": "2022-08-12T18:53:54.5741844Z",
              "spark_jobs": null
            },
            "text/plain": "StatementMeta(mattmarz, 12, 10, Finished, Available)"
          },
          "metadata": {}
        }
      ],
      "execution_count": 114,
      "metadata": {
        "jupyter": {
          "source_hidden": false,
          "outputs_hidden": false
        },
        "nteract": {
          "transient": {
            "deleting": false
          }
        }
      }
    },
    {
      "cell_type": "code",
      "source": [
        "# convert data types to match for join and join data sets\n",
        "df['doc_id'] = df['doc_id'].astype(int)\n",
        "df_out = pd.merge(df, df_notes)\n",
        "df_out"
      ],
      "outputs": [
        {
          "output_type": "display_data",
          "data": {
            "application/vnd.livy.statement-meta+json": {
              "spark_pool": "mattmarz",
              "session_id": "12",
              "statement_id": 11,
              "state": "finished",
              "livy_statement_state": "available",
              "queued_time": "2022-08-12T18:53:58.1265639Z",
              "session_start_time": null,
              "execution_start_time": "2022-08-12T18:53:58.7425157Z",
              "execution_finish_time": "2022-08-12T18:53:58.8835827Z",
              "spark_jobs": null
            },
            "text/plain": "StatementMeta(mattmarz, 12, 11, Finished, Available)"
          },
          "metadata": {}
        },
        {
          "output_type": "execute_result",
          "execution_count": 31,
          "data": {
            "text/plain": "    doc_id               entity            category  \\\n0        0             pink eye       SymptomOrSign   \n1        1               severe  ConditionQualifier   \n2        1            back pain       SymptomOrSign   \n3        1              Tylenol      MedicationName   \n4        2       broke her knee       SymptomOrSign   \n5        3      hip replacement       TreatmentName   \n6        4                  flu       SymptomOrSign   \n7        4               vomits       SymptomOrSign   \n8        5                sever  ConditionQualifier   \n9        5             migraine           Diagnosis   \n10       6             diabetes           Diagnosis   \n11       6              insulin      MedicationName   \n12       7          neck injury           Diagnosis   \n13       7                covid           Diagnosis   \n14       8            fractured           Diagnosis   \n15       8                  toe       BodyStructure   \n16       8               finger       BodyStructure   \n17       9        heart disease           Diagnosis   \n18       9             diabetes           Diagnosis   \n19       9  high blood pressure       SymptomOrSign   \n\n                             normalized_text  PAT_ID  \\\n0                             Conjunctivitis  123456   \n1                                       None  234567   \n2                                  Back Pain  234567   \n3                                    Tylenol  234567   \n4                                       None  345678   \n5   Hip Replacement Arthroplasty (procedure)  456789   \n6                                  Influenza  567890   \n7                                   Vomiting  567890   \n8                                       None  678901   \n9                         Migraine Disorders  678901   \n10                         Diabetes Mellitus  789012   \n11                                   Insulin  789012   \n12                             Neck Injuries  890123   \n13                                      None  890123   \n14                                  Fracture  901234   \n15                                      Toes  901234   \n16                                   Fingers  901234   \n17                            Heart Diseases  112345   \n18                         Diabetes Mellitus  112345   \n19                      Hypertensive disease  112345   \n\n                                                NOTES  \n0                 Patient is presenting with pink eye  \n1      Patient has severe back pain and needs Tylenol  \n2      Patient has severe back pain and needs Tylenol  \n3      Patient has severe back pain and needs Tylenol  \n4                              Patient broke her knee  \n5                     Patient needs a hip replacement  \n6       Patient has the flu and vomits with frequency  \n7       Patient has the flu and vomits with frequency  \n8                        Patient has a sever migraine  \n9                        Patient has a sever migraine  \n10        Patient has diabetes and needs more insulin  \n11        Patient has diabetes and needs more insulin  \n12                Patient has a neck injury and covid  \n13                Patient has a neck injury and covid  \n14               Patient fractured his toe and finger  \n15               Patient fractured his toe and finger  \n16               Patient fractured his toe and finger  \n17  Patient has heart disease and diabetes and hig...  \n18  Patient has heart disease and diabetes and hig...  \n19  Patient has heart disease and diabetes and hig...  ",
            "text/html": "<div>\n<style scoped>\n    .dataframe tbody tr th:only-of-type {\n        vertical-align: middle;\n    }\n\n    .dataframe tbody tr th {\n        vertical-align: top;\n    }\n\n    .dataframe thead th {\n        text-align: right;\n    }\n</style>\n<table border=\"1\" class=\"dataframe\">\n  <thead>\n    <tr style=\"text-align: right;\">\n      <th></th>\n      <th>doc_id</th>\n      <th>entity</th>\n      <th>category</th>\n      <th>normalized_text</th>\n      <th>PAT_ID</th>\n      <th>NOTES</th>\n    </tr>\n  </thead>\n  <tbody>\n    <tr>\n      <th>0</th>\n      <td>0</td>\n      <td>pink eye</td>\n      <td>SymptomOrSign</td>\n      <td>Conjunctivitis</td>\n      <td>123456</td>\n      <td>Patient is presenting with pink eye</td>\n    </tr>\n    <tr>\n      <th>1</th>\n      <td>1</td>\n      <td>severe</td>\n      <td>ConditionQualifier</td>\n      <td>None</td>\n      <td>234567</td>\n      <td>Patient has severe back pain and needs Tylenol</td>\n    </tr>\n    <tr>\n      <th>2</th>\n      <td>1</td>\n      <td>back pain</td>\n      <td>SymptomOrSign</td>\n      <td>Back Pain</td>\n      <td>234567</td>\n      <td>Patient has severe back pain and needs Tylenol</td>\n    </tr>\n    <tr>\n      <th>3</th>\n      <td>1</td>\n      <td>Tylenol</td>\n      <td>MedicationName</td>\n      <td>Tylenol</td>\n      <td>234567</td>\n      <td>Patient has severe back pain and needs Tylenol</td>\n    </tr>\n    <tr>\n      <th>4</th>\n      <td>2</td>\n      <td>broke her knee</td>\n      <td>SymptomOrSign</td>\n      <td>None</td>\n      <td>345678</td>\n      <td>Patient broke her knee</td>\n    </tr>\n    <tr>\n      <th>5</th>\n      <td>3</td>\n      <td>hip replacement</td>\n      <td>TreatmentName</td>\n      <td>Hip Replacement Arthroplasty (procedure)</td>\n      <td>456789</td>\n      <td>Patient needs a hip replacement</td>\n    </tr>\n    <tr>\n      <th>6</th>\n      <td>4</td>\n      <td>flu</td>\n      <td>SymptomOrSign</td>\n      <td>Influenza</td>\n      <td>567890</td>\n      <td>Patient has the flu and vomits with frequency</td>\n    </tr>\n    <tr>\n      <th>7</th>\n      <td>4</td>\n      <td>vomits</td>\n      <td>SymptomOrSign</td>\n      <td>Vomiting</td>\n      <td>567890</td>\n      <td>Patient has the flu and vomits with frequency</td>\n    </tr>\n    <tr>\n      <th>8</th>\n      <td>5</td>\n      <td>sever</td>\n      <td>ConditionQualifier</td>\n      <td>None</td>\n      <td>678901</td>\n      <td>Patient has a sever migraine</td>\n    </tr>\n    <tr>\n      <th>9</th>\n      <td>5</td>\n      <td>migraine</td>\n      <td>Diagnosis</td>\n      <td>Migraine Disorders</td>\n      <td>678901</td>\n      <td>Patient has a sever migraine</td>\n    </tr>\n    <tr>\n      <th>10</th>\n      <td>6</td>\n      <td>diabetes</td>\n      <td>Diagnosis</td>\n      <td>Diabetes Mellitus</td>\n      <td>789012</td>\n      <td>Patient has diabetes and needs more insulin</td>\n    </tr>\n    <tr>\n      <th>11</th>\n      <td>6</td>\n      <td>insulin</td>\n      <td>MedicationName</td>\n      <td>Insulin</td>\n      <td>789012</td>\n      <td>Patient has diabetes and needs more insulin</td>\n    </tr>\n    <tr>\n      <th>12</th>\n      <td>7</td>\n      <td>neck injury</td>\n      <td>Diagnosis</td>\n      <td>Neck Injuries</td>\n      <td>890123</td>\n      <td>Patient has a neck injury and covid</td>\n    </tr>\n    <tr>\n      <th>13</th>\n      <td>7</td>\n      <td>covid</td>\n      <td>Diagnosis</td>\n      <td>None</td>\n      <td>890123</td>\n      <td>Patient has a neck injury and covid</td>\n    </tr>\n    <tr>\n      <th>14</th>\n      <td>8</td>\n      <td>fractured</td>\n      <td>Diagnosis</td>\n      <td>Fracture</td>\n      <td>901234</td>\n      <td>Patient fractured his toe and finger</td>\n    </tr>\n    <tr>\n      <th>15</th>\n      <td>8</td>\n      <td>toe</td>\n      <td>BodyStructure</td>\n      <td>Toes</td>\n      <td>901234</td>\n      <td>Patient fractured his toe and finger</td>\n    </tr>\n    <tr>\n      <th>16</th>\n      <td>8</td>\n      <td>finger</td>\n      <td>BodyStructure</td>\n      <td>Fingers</td>\n      <td>901234</td>\n      <td>Patient fractured his toe and finger</td>\n    </tr>\n    <tr>\n      <th>17</th>\n      <td>9</td>\n      <td>heart disease</td>\n      <td>Diagnosis</td>\n      <td>Heart Diseases</td>\n      <td>112345</td>\n      <td>Patient has heart disease and diabetes and hig...</td>\n    </tr>\n    <tr>\n      <th>18</th>\n      <td>9</td>\n      <td>diabetes</td>\n      <td>Diagnosis</td>\n      <td>Diabetes Mellitus</td>\n      <td>112345</td>\n      <td>Patient has heart disease and diabetes and hig...</td>\n    </tr>\n    <tr>\n      <th>19</th>\n      <td>9</td>\n      <td>high blood pressure</td>\n      <td>SymptomOrSign</td>\n      <td>Hypertensive disease</td>\n      <td>112345</td>\n      <td>Patient has heart disease and diabetes and hig...</td>\n    </tr>\n  </tbody>\n</table>\n</div>"
          },
          "metadata": {}
        }
      ],
      "execution_count": 115,
      "metadata": {
        "jupyter": {
          "source_hidden": false,
          "outputs_hidden": false
        },
        "nteract": {
          "transient": {
            "deleting": false
          }
        }
      }
    },
    {
      "cell_type": "code",
      "source": [
        "# Write file to stage\n",
        "currentDateTime = time.strftime('%d-%m-%Y %H:%M:%S')\n",
        "df_out.to_csv('abfss://stage@STORAGENAME.dfs.core.windows.net//results'+currentDateTime+'.csv', index = False,header=False)"
      ],
      "outputs": [
        {
          "output_type": "display_data",
          "data": {
            "application/vnd.livy.statement-meta+json": {
              "spark_pool": "mattmarz",
              "session_id": "12",
              "statement_id": 31,
              "state": "finished",
              "livy_statement_state": "available",
              "queued_time": "2022-08-12T19:27:19.4259352Z",
              "session_start_time": null,
              "execution_start_time": "2022-08-12T19:27:19.5594346Z",
              "execution_finish_time": "2022-08-12T19:27:19.7067642Z",
              "spark_jobs": null
            },
            "text/plain": "StatementMeta(mattmarz, 12, 31, Finished, Available)"
          },
          "metadata": {}
        }
      ],
      "execution_count": 135,
      "metadata": {
        "jupyter": {
          "source_hidden": false,
          "outputs_hidden": false
        },
        "nteract": {
          "transient": {
            "deleting": false
          }
        }
      }
    }
  ],
  "metadata": {
    "kernelspec": {
      "name": "synapse_pyspark",
      "display_name": "Synapse PySpark"
    },
    "language_info": {
      "name": "python"
    },
    "description": null,
    "save_output": true,
    "synapse_widget": {
      "version": "0.1",
      "state": {}
    }
  },
  "nbformat": 4,
  "nbformat_minor": 2
}